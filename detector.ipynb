{
 "cells": [
  {
   "cell_type": "code",
   "execution_count": 1,
   "metadata": {},
   "outputs": [],
   "source": [
    "import torch"
   ]
  },
  {
   "cell_type": "code",
   "execution_count": 3,
   "metadata": {},
   "outputs": [],
   "source": [
    "det_box = torch.randn((1, 5, 7, 7))\n",
    "gt_box = torch.randn((1, 6, 7, 7))"
   ]
  },
  {
   "cell_type": "code",
   "execution_count": 5,
   "metadata": {},
   "outputs": [],
   "source": [
    "indicies = torch.arange(0, 7).repeat((7, 1))\n",
    "grid = torch.cat([indicies.unsqueeze(2), indicies.T.unsqueeze(2)], 2)\n",
    "grid_indicies = grid.transpose(0, 2).transpose(1, 2).unsqueeze(0)"
   ]
  },
  {
   "cell_type": "code",
   "execution_count": 8,
   "metadata": {},
   "outputs": [],
   "source": [
    "det_box_area = det_box[:, 2, :, :] * det_box[:, 3, :, :]\n",
    "gt_box_area = gt_box[:, 2, :, :] * gt_box[:, 3, :, :]\n",
    "\n",
    "det_box_xycenter_rel = det_box[:, :2, :, :] + grid_indicies\n",
    "det_box_xymin = det_box_xycenter_rel - (det_box[:, 2:4, :, :] / 2)\n",
    "det_box_xymax = det_box_xycenter_rel + (det_box[:, 2:4, :, :] / 2)\n",
    "\n",
    "gt_box_xycenter_rel = gt_box[:, :2, :, :] + grid_indicies\n",
    "gt_box_xymin = gt_box_xycenter_rel - (gt_box[:, 2:4, :, :] / 2)\n",
    "gt_box_xymax = gt_box_xycenter_rel + (gt_box[:, 2:4, :, :] / 2)\n",
    "\n",
    "lt = torch.max(det_box_xymax.unsqueeze(1), gt_box_xymax)\n",
    "rb = torch.min(det_box_xymin.unsqueeze(1), gt_box_xymin)\n",
    "wh = (rb - lt).clamp(min=0)\n",
    "inter = wh[:, :, 0, :, :] * wh[:, :, 1, :, :]\n",
    "union = det_box_area[:, None, :, :] + gt_box_area - inter\n",
    "iou = inter / union"
   ]
  },
  {
   "cell_type": "code",
   "execution_count": 13,
   "metadata": {},
   "outputs": [
    {
     "data": {
      "text/plain": [
       "torch.Size([1, 1, 7, 7])"
      ]
     },
     "execution_count": 13,
     "metadata": {},
     "output_type": "execute_result"
    }
   ],
   "source": [
    "iou.shape"
   ]
  },
  {
   "cell_type": "code",
   "execution_count": 20,
   "metadata": {},
   "outputs": [
    {
     "data": {
      "text/plain": [
       "torch.Size([1, 1, 7, 7])"
      ]
     },
     "execution_count": 20,
     "metadata": {},
     "output_type": "execute_result"
    }
   ],
   "source": [
    "torch.cat([iou, iou, iou], dim=1).argmax(dim=1, keepdim=True).shape"
   ]
  }
 ],
 "metadata": {
  "kernelspec": {
   "display_name": "Python 3.9.12 ('torch')",
   "language": "python",
   "name": "python3"
  },
  "language_info": {
   "codemirror_mode": {
    "name": "ipython",
    "version": 3
   },
   "file_extension": ".py",
   "mimetype": "text/x-python",
   "name": "python",
   "nbconvert_exporter": "python",
   "pygments_lexer": "ipython3",
   "version": "3.9.12"
  },
  "orig_nbformat": 4,
  "vscode": {
   "interpreter": {
    "hash": "4cfeffe9de5151bf7422aeca79755665c84a7c893c4d42b50f3e49508f97d22b"
   }
  }
 },
 "nbformat": 4,
 "nbformat_minor": 2
}
